{
 "cells": [
  {
   "cell_type": "code",
   "execution_count": 1,
   "metadata": {
    "collapsed": true
   },
   "outputs": [],
   "source": [
    "import pandas as pd\n",
    "import networkx as nx\n",
    "dfattributes=pd.read_csv('politician-data.csv', sep='\\t')"
   ]
  },
  {
   "cell_type": "code",
   "execution_count": 2,
   "metadata": {
    "collapsed": true
   },
   "outputs": [],
   "source": [
    "def makenetwork (revision):\n",
    "    with open(revision , 'rb') as inf:\n",
    "        next(inf, '')  \n",
    "        G= nx.read_edgelist(inf, delimiter=',', create_using=nx.DiGraph(), nodetype=int, encoding=\"utf-8\")\n",
    "    return G"
   ]
  },
  {
   "cell_type": "code",
   "execution_count": 3,
   "metadata": {
    "collapsed": false
   },
   "outputs": [],
   "source": [
    "networklist=[]\n",
    "for j in range (2001,2017):\n",
    "    for i in range (1,13):\n",
    "        if i>9:\n",
    "            networklist.append(makenetwork(str(j) + '_' + str(i) + '.csv'))\n",
    "        else :\n",
    "            networklist.append(makenetwork(str(j) + '_0' + str(i) + '.csv'))"
   ]
  },
  {
   "cell_type": "code",
   "execution_count": 10,
   "metadata": {
    "collapsed": true
   },
   "outputs": [],
   "source": [
    "def Homophilie (G): \n",
    "    Dict = dict(zip(dfattributes['ID'], dfattributes['gender']))\n",
    "    idlist=G.nodes()\n",
    "    GenderDict=dict ([(k, Dict[k]) for k in idlist])\n",
    "    nx.set_node_attributes(G,'gender',GenderDict)\n",
    "    \n",
    "    ff=0\n",
    "    mm=0\n",
    "    fm=0\n",
    "    mf=0\n",
    "    for n1, n2 in G.edges_iter():\n",
    "        if G.node[n1]['gender']=='female':\n",
    "            if G.node[n2]['gender']=='female':\n",
    "                ff=ff+1\n",
    "            if G.node[n2]['gender']=='male':\n",
    "                fm=fm+1\n",
    "        if G.node[n1]['gender']=='male':\n",
    "            if G.node[n2]['gender']=='female':\n",
    "                mf=mf+1\n",
    "            if G.node[n2]['gender']=='male':\n",
    "                mm=mm+1\n",
    "    ffproportion=0\n",
    "    fmproportion=0\n",
    "    mmproportion=0\n",
    "    mfproportion=0\n",
    "    if (ff+fm)!= 0 :\n",
    "        ffproportion=(ff/(ff+fm))*100\n",
    "        fmproportion=(fm/(ff+fm))*100\n",
    "    if (mm+mf)!= 0 :\n",
    "        mmproportion=(mm/(mm+mf))*100\n",
    "        mfproportion=(mf/(mm+mf))*100\n",
    "    \n",
    "    FemaleNumber=0\n",
    "    MaleNumber=0\n",
    "    for n in G.nodes_iter(): \n",
    "        if G.node[n]['gender']=='female':\n",
    "            FemaleNumber=FemaleNumber+1\n",
    "        if G.node[n]['gender']=='male': \n",
    "            MaleNumber=MaleNumber+1\n",
    "    Total=FemaleNumber+MaleNumber\n",
    "    FemaleProportion=0\n",
    "    MaleProportion=0\n",
    "    if Total!=0 :\n",
    "        FemaleProportion=(FemaleNumber/Total)*100\n",
    "        MaleProportion=(MaleNumber/Total)*100\n",
    "    result=[round(ffproportion,3),round(FemaleProportion,3),round(mfproportion,3),round(mmproportion,3),round(MaleProportion,3),round(fmproportion,3)]\n",
    "    return result"
   ]
  },
  {
   "cell_type": "code",
   "execution_count": 44,
   "metadata": {
    "collapsed": true
   },
   "outputs": [],
   "source": [
    "Homo=[]\n",
    "for i in range(0,192):\n",
    "    a=networklist[i]\n",
    "    Homo.append(Homophilie (a))"
   ]
  },
  {
   "cell_type": "code",
   "execution_count": 51,
   "metadata": {
    "collapsed": false
   },
   "outputs": [],
   "source": [
    "FFLinks=[]\n",
    "for i in range(0,192):\n",
    "    FFLinks.append(Homo [i][0])"
   ]
  },
  {
   "cell_type": "code",
   "execution_count": 52,
   "metadata": {
    "collapsed": false
   },
   "outputs": [],
   "source": [
    "FP=[]\n",
    "for i in range(0,192):\n",
    "    FP.append(Homo [i][1])"
   ]
  },
  {
   "cell_type": "code",
   "execution_count": 53,
   "metadata": {
    "collapsed": true
   },
   "outputs": [],
   "source": [
    "MFLinks=[]\n",
    "for i in range(0,192):\n",
    "    MFLinks.append(Homo [i][2])"
   ]
  },
  {
   "cell_type": "code",
   "execution_count": 182,
   "metadata": {
    "collapsed": false
   },
   "outputs": [
    {
     "name": "stdout",
     "output_type": "stream",
     "text": [
      "High five! You successfuly sent some data to your account on plotly. View your plot in your browser at https://plot.ly/~lily1363/0 or inside your plot.ly account where it is named 'line-mode'\n"
     ]
    },
    {
     "data": {
      "text/html": [
       "<iframe id=\"igraph\" scrolling=\"no\" style=\"border:none;\" seamless=\"seamless\" src=\"https://plot.ly/~lily1363/0.embed\" height=\"525px\" width=\"100%\"></iframe>"
      ],
      "text/plain": [
       "<plotly.tools.PlotlyDisplay object>"
      ]
     },
     "execution_count": 182,
     "metadata": {},
     "output_type": "execute_result"
    }
   ],
   "source": [
    "from datetime import date\n",
    "import plotly.plotly as py\n",
    "import plotly.graph_objs as go\n",
    "\n",
    "RevisionDate=[day.isoformat() for day in rrule(MONTHLY, dtstart=date(2001,1,1), until=date.today())]\n",
    "\n",
    "py.sign_in('lily1363', 'bCswA9XuSCwedV9u5fJc')\n",
    "\n",
    "trace0 = go.Scatter(\n",
    "    x = RevisionDate,\n",
    "    y = FFLinks,\n",
    "    mode = 'lines',\n",
    "    name = 'Female to Female Links'\n",
    ")\n",
    "trace1 = go.Scatter(\n",
    "    x = RevisionDate,\n",
    "    y = FP,\n",
    "    mode = 'lines',\n",
    "    name = 'Female Pages'\n",
    ")\n",
    "trace2 = go.Scatter(\n",
    "    x = RevisionDate,\n",
    "    y = MFLinks,\n",
    "    mode = 'lines',\n",
    "    name = 'Male to Female Links'\n",
    ")\n",
    "\n",
    "data = [trace0,trace1,trace2]\n",
    "\n",
    "layout = dict(title = 'Gender Homophily',\n",
    "              xaxis = dict(title = 'Revision'),\n",
    "              yaxis = dict(title = 'Percentage'),\n",
    "              )\n",
    "\n",
    "fig = dict(data=data, layout=layout)\n",
    "# Plot and embed in ipython notebook!\n",
    "py.iplot(fig, filename='line-mode')"
   ]
  },
  {
   "cell_type": "code",
   "execution_count": 55,
   "metadata": {
    "collapsed": true
   },
   "outputs": [],
   "source": [
    "MMLinks=[]\n",
    "for i in range(0,192):\n",
    "    MMLinks.append(Homo [i][3])"
   ]
  },
  {
   "cell_type": "code",
   "execution_count": 56,
   "metadata": {
    "collapsed": true
   },
   "outputs": [],
   "source": [
    "MP=[]\n",
    "for i in range(0,192):\n",
    "    MP.append(Homo [i][4])"
   ]
  },
  {
   "cell_type": "code",
   "execution_count": 57,
   "metadata": {
    "collapsed": true
   },
   "outputs": [],
   "source": [
    "FMLinks=[]\n",
    "for i in range(0,192):\n",
    "    FMLinks.append(Homo [i][5])"
   ]
  },
  {
   "cell_type": "code",
   "execution_count": 184,
   "metadata": {
    "collapsed": false
   },
   "outputs": [
    {
     "name": "stdout",
     "output_type": "stream",
     "text": [
      "High five! You successfuly sent some data to your account on plotly. View your plot in your browser at https://plot.ly/~lily1363/0 or inside your plot.ly account where it is named 'line-mode'\n"
     ]
    },
    {
     "data": {
      "text/html": [
       "<iframe id=\"igraph\" scrolling=\"no\" style=\"border:none;\" seamless=\"seamless\" src=\"https://plot.ly/~lily1363/0.embed\" height=\"525px\" width=\"100%\"></iframe>"
      ],
      "text/plain": [
       "<plotly.tools.PlotlyDisplay object>"
      ]
     },
     "execution_count": 184,
     "metadata": {},
     "output_type": "execute_result"
    }
   ],
   "source": [
    "trace0 = go.Scatter(\n",
    "    x = RevisionDate,\n",
    "    y = MMLinks,\n",
    "    mode = 'lines',\n",
    "    name = 'Male to Male Links'\n",
    ")\n",
    "trace1 = go.Scatter(\n",
    "    x = RevisionDate,\n",
    "    y = MP,\n",
    "    mode = 'lines',\n",
    "    name = 'Male Pages'\n",
    ")\n",
    "trace2 = go.Scatter(\n",
    "    x = RevisionDate,\n",
    "    y = FMLinks,\n",
    "    mode = 'lines',\n",
    "    name = 'Female to Male Links'\n",
    ")\n",
    "\n",
    "data = [trace0,trace1,trace2]\n",
    "\n",
    "layout = dict(title = 'Gender Homophily',\n",
    "              xaxis = dict(title = 'Revision'),\n",
    "              yaxis = dict(title = 'Percentage'),\n",
    "              )\n",
    "\n",
    "fig = dict(data=data, layout=layout)\n",
    "# Plot and embed in ipython notebook!\n",
    "py.iplot(fig, filename='line-mode')"
   ]
  },
  {
   "cell_type": "code",
   "execution_count": 59,
   "metadata": {
    "collapsed": true
   },
   "outputs": [],
   "source": [
    "def GenderNumber(G):\n",
    "    F=0\n",
    "    M=0\n",
    "    for n in G.nodes_iter(): \n",
    "        if G.node[n]['gender']=='female':\n",
    "            F=F+1\n",
    "        if G.node[n]['gender']=='male': \n",
    "            M=M+1\n",
    "    return [F,M]"
   ]
  },
  {
   "cell_type": "code",
   "execution_count": 61,
   "metadata": {
    "collapsed": true
   },
   "outputs": [],
   "source": [
    "GenNum=[]\n",
    "for i in range(0,192):\n",
    "    a=networklist[i]\n",
    "    GenNum.append(GenderNumber (a))"
   ]
  },
  {
   "cell_type": "code",
   "execution_count": 62,
   "metadata": {
    "collapsed": true
   },
   "outputs": [],
   "source": [
    "FNumber=[]\n",
    "for i in range(0,192):\n",
    "    FNumber.append(GenNum [i][0])"
   ]
  },
  {
   "cell_type": "code",
   "execution_count": 63,
   "metadata": {
    "collapsed": true
   },
   "outputs": [],
   "source": [
    "MNumber=[]\n",
    "for i in range(0,192):\n",
    "    MNumber.append(GenNum [i][1])"
   ]
  },
  {
   "cell_type": "code",
   "execution_count": 65,
   "metadata": {
    "collapsed": false
   },
   "outputs": [
    {
     "data": {
      "text/html": [
       "<iframe id=\"igraph\" scrolling=\"no\" style=\"border:none;\" seamless=\"seamless\" src=\"https://plot.ly/~susan2933/2.embed\" height=\"525px\" width=\"100%\"></iframe>"
      ],
      "text/plain": [
       "<plotly.tools.PlotlyDisplay object>"
      ]
     },
     "execution_count": 65,
     "metadata": {},
     "output_type": "execute_result"
    }
   ],
   "source": [
    "trace0 = go.Scatter(\n",
    "    x = RevisionDate,\n",
    "    y = FNumber,\n",
    "    mode = 'lines',\n",
    "    name = 'Number of Females'\n",
    ")\n",
    "trace1 = go.Scatter(\n",
    "    x = RevisionDate,\n",
    "    y = MNumber,\n",
    "    mode = 'lines',\n",
    "    name ='Number of Males'\n",
    ")\n",
    "\n",
    "data = [trace0, trace1]\n",
    "\n",
    "layout = dict(title = 'Number of Females and Males',\n",
    "              xaxis = dict(title = 'Revision'),)\n",
    "\n",
    "fig = dict(data=data, layout=layout)\n",
    "# Plot and embed in ipython notebook!\n",
    "py.iplot(fig, filename='line-mode')"
   ]
  },
  {
   "cell_type": "code",
   "execution_count": 168,
   "metadata": {
    "collapsed": true
   },
   "outputs": [],
   "source": [
    "import numpy as np\n",
    "def indegree(G):\n",
    "    F=[]\n",
    "    M=[]\n",
    "    a=G.in_degree()\n",
    "    for n in G.nodes_iter(): \n",
    "        if G.node[n]['gender']=='female':\n",
    "            F.append(a[n])\n",
    "        if G.node[n]['gender']=='male': \n",
    "            M.append(a[n])\n",
    "    meanf=0\n",
    "    meanm=0\n",
    "    stdf=0\n",
    "    stdm=0\n",
    "    if F:\n",
    "        meanf=np.mean(F)\n",
    "        stdf=np.std(F)/13.85\n",
    "    if M:\n",
    "        meanm=np.mean(M)\n",
    "        stdm=np.std(M)/13.85\n",
    "    return [meanf,meanm,stdf,stdm]"
   ]
  },
  {
   "cell_type": "code",
   "execution_count": 169,
   "metadata": {
    "collapsed": false
   },
   "outputs": [],
   "source": [
    "InDeg=[]\n",
    "for i in range(0,192):\n",
    "    a=networklist[i]\n",
    "    InDeg.append(indegree (a))"
   ]
  },
  {
   "cell_type": "code",
   "execution_count": 170,
   "metadata": {
    "collapsed": true
   },
   "outputs": [],
   "source": [
    "AFIndegree=[]\n",
    "VFIndegree=[]\n",
    "for i in range(0,192):\n",
    "    AFIndegree.append(InDeg [i][0])\n",
    "    VFIndegree.append(InDeg [i][2])"
   ]
  },
  {
   "cell_type": "code",
   "execution_count": 171,
   "metadata": {
    "collapsed": true
   },
   "outputs": [],
   "source": [
    "AMIndegree=[]\n",
    "VMIndegree=[]\n",
    "for i in range(0,192):\n",
    "    AMIndegree.append(InDeg [i][1])\n",
    "    VMIndegree.append(InDeg [i][3])"
   ]
  },
  {
   "cell_type": "code",
   "execution_count": 173,
   "metadata": {
    "collapsed": false
   },
   "outputs": [
    {
     "name": "stdout",
     "output_type": "stream",
     "text": [
      "High five! You successfuly sent some data to your account on plotly. View your plot in your browser at https://plot.ly/~lily1363/0 or inside your plot.ly account where it is named 'line-mode'\n"
     ]
    },
    {
     "data": {
      "text/html": [
       "<iframe id=\"igraph\" scrolling=\"no\" style=\"border:none;\" seamless=\"seamless\" src=\"https://plot.ly/~lily1363/0.embed\" height=\"525px\" width=\"100%\"></iframe>"
      ],
      "text/plain": [
       "<plotly.tools.PlotlyDisplay object>"
      ]
     },
     "execution_count": 173,
     "metadata": {},
     "output_type": "execute_result"
    }
   ],
   "source": [
    "\n",
    "trace0 = go.Scatter(\n",
    "    x = RevisionDate,\n",
    "    y = AFIndegree,\n",
    "    mode = 'lines',\n",
    "    name = 'Average In-degree of Females'\n",
    ")\n",
    "\n",
    "trace01 = go.Scatter(\n",
    "    x = RevisionDate,\n",
    "    y = [x + y for x, y in zip(VFIndegree, AFIndegree)],\n",
    "    mode = 'lines',\n",
    "    marker=dict(color=\"444\"),\n",
    "    line=dict(width=0),\n",
    "    fillcolor='rgba(68, 68, 68, 0.3)',\n",
    "    fill='tonexty'\n",
    ")\n",
    "trace02 = go.Scatter(\n",
    "    x = RevisionDate,\n",
    "    y = [x - y for x, y in zip(AFIndegree,VFIndegree)],\n",
    "    mode = 'lines',\n",
    "    marker=dict(color=\"444\"),\n",
    "    line=dict(width=0),\n",
    "    fillcolor='rgba(68, 68, 68, 0.3)',\n",
    "    fill='tonexty'\n",
    ")\n",
    "\n",
    "trace1 = go.Scatter(\n",
    "    x = RevisionDate,\n",
    "    y = AMIndegree,\n",
    "    mode = 'lines',\n",
    "    name ='Average In-degree of Males'\n",
    ")\n",
    "\n",
    "trace11 = go.Scatter(\n",
    "    x = RevisionDate,\n",
    "    y = [x + y for x, y in zip(VMIndegree, AMIndegree)],\n",
    "    mode = 'lines',\n",
    "    marker=dict(color=\"444\"),\n",
    "    line=dict(width=0),\n",
    "    fillcolor='rgba(68, 68, 68, 0.3)',\n",
    "    fill='tonexty'\n",
    ")\n",
    "trace12 = go.Scatter(\n",
    "    x = RevisionDate,\n",
    "    y = [x - y for x, y in zip(AMIndegree,VMIndegree)],\n",
    "    mode = 'lines',\n",
    "    marker=dict(color=\"444\"),\n",
    "    line=dict(width=0),\n",
    "    fillcolor='rgba(68, 68, 68, 0.3)',\n",
    "    fill='tonexty'\n",
    ")\n",
    "\n",
    "data = [trace0,trace01,trace02,trace1,trace11,trace12]\n",
    "\n",
    "layout = dict(title = 'Average In-degree',\n",
    "              xaxis = dict(title = 'Revision'),)\n",
    "\n",
    "fig = dict(data=data, layout=layout)\n",
    "# Plot and embed in ipython notebook!\n",
    "py.iplot(fig, filename='line-mode')"
   ]
  },
  {
   "cell_type": "code",
   "execution_count": 177,
   "metadata": {
    "collapsed": false
   },
   "outputs": [],
   "source": [
    "AFIndegreeY=[]\n",
    "AMIndegreeY=[]\n",
    "VFIndegreeY=[]\n",
    "VMIndegreeY=[]\n",
    "for i in range(0,200,12):\n",
    "    if (i-1)>0:\n",
    "        AFIndegreeY.append(AFIndegree[i-1])\n",
    "        AMIndegreeY.append(AMIndegree[i-1])\n",
    "        VFIndegreeY.append(VFIndegree[i-1])\n",
    "        VMIndegreeY.append(VMIndegree[i-1])"
   ]
  },
  {
   "cell_type": "code",
   "execution_count": 186,
   "metadata": {
    "collapsed": false
   },
   "outputs": [
    {
     "data": {
      "text/html": [
       "<iframe id=\"igraph\" scrolling=\"no\" style=\"border:none;\" seamless=\"seamless\" src=\"https://plot.ly/~lily1363/2.embed\" height=\"525px\" width=\"100%\"></iframe>"
      ],
      "text/plain": [
       "<plotly.tools.PlotlyDisplay object>"
      ]
     },
     "execution_count": 186,
     "metadata": {},
     "output_type": "execute_result"
    }
   ],
   "source": [
    "\n",
    "RevisionDateYear=['2001','2002','2003','2004','2005','2006','2007','2008','2009','2010','2011','2012','2013','2014','2015','2016']\n",
    "\n",
    "\n",
    "trace1 = go.Bar(\n",
    "    x=RevisionDateYear,\n",
    "    y=AFIndegreeY,\n",
    "    error_y=dict(\n",
    "                type='data',\n",
    "                array=VFIndegreeY\n",
    "            ),\n",
    "    name='Average In-degree of Females'\n",
    ")\n",
    "trace2 = go.Bar(\n",
    "    x=RevisionDateYear,\n",
    "    y=AMIndegreeY,\n",
    "    error_y=dict(\n",
    "                type='data',\n",
    "                array=VMIndegreeY\n",
    "            ),\n",
    "    name='Average In-degree of Males'\n",
    ")\n",
    "\n",
    "data = [trace1, trace2]\n",
    "layout = go.Layout(\n",
    "    barmode='group',\n",
    "    title='Average In-degree',\n",
    "    xaxis = dict(title = 'Revision'),\n",
    ")\n",
    "\n",
    "fig = go.Figure(data=data, layout=layout)\n",
    "py.iplot(fig, filename='grouped-bar')\n"
   ]
  },
  {
   "cell_type": "code",
   "execution_count": 102,
   "metadata": {
    "collapsed": false
   },
   "outputs": [
    {
     "data": {
      "text/html": [
       "<iframe id=\"igraph\" scrolling=\"no\" style=\"border:none;\" seamless=\"seamless\" src=\"https://plot.ly/~susan2933/2.embed\" height=\"525px\" width=\"100%\"></iframe>"
      ],
      "text/plain": [
       "<plotly.tools.PlotlyDisplay object>"
      ]
     },
     "execution_count": 102,
     "metadata": {},
     "output_type": "execute_result"
    }
   ],
   "source": [
    "\n",
    "trace0 = go.Scatter(\n",
    "    x = RevisionDate,\n",
    "    y = AFIndegree,\n",
    "    mode = 'lines',\n",
    "    name = 'Average In-degree of Females'\n",
    ")\n",
    "\n",
    "trace1 = go.Scatter(\n",
    "    x = RevisionDate,\n",
    "    y = AMIndegree,\n",
    "    mode = 'lines',\n",
    "    name ='Average In-degree of Males'\n",
    ")\n",
    "\n",
    "data = [trace0, trace1]\n",
    "\n",
    "layout = dict(title = 'Average In-degree',\n",
    "              xaxis = dict(title = 'Revision'),)\n",
    "\n",
    "fig = dict(data=data, layout=layout)\n",
    "# Plot and embed in ipython notebook!\n",
    "py.iplot(fig, filename='line-mode')"
   ]
  },
  {
   "cell_type": "code",
   "execution_count": 215,
   "metadata": {
    "collapsed": true
   },
   "outputs": [],
   "source": [
    "def KCore(G):\n",
    "    F=[]\n",
    "    M=[]\n",
    "    a=nx.algorithms.core_number(G)\n",
    "    for n in G.nodes_iter(): \n",
    "        if G.node[n]['gender']=='female':\n",
    "            F.append(a[n])\n",
    "        if G.node[n]['gender']=='male': \n",
    "            M.append(a[n])\n",
    "    FemaleKCore=0\n",
    "    MaleKCore=0\n",
    "    stdf=0\n",
    "    stdm=0\n",
    "    if F:\n",
    "        FemaleKCore=np.mean(F)\n",
    "        stdf=np.std(F)/13.85\n",
    "    if M:\n",
    "        MaleKCore=np.mean(M)\n",
    "        stdm=np.std(M)/13.85\n",
    "    return [FemaleKCore,MaleKCore,stdf,stdm]"
   ]
  },
  {
   "cell_type": "code",
   "execution_count": 194,
   "metadata": {
    "collapsed": true
   },
   "outputs": [],
   "source": [
    "for i in range(0,192):\n",
    "    a=networklist[i]\n",
    "    a.remove_edges_from(a.selfloop_edges())"
   ]
  },
  {
   "cell_type": "code",
   "execution_count": 216,
   "metadata": {
    "collapsed": false
   },
   "outputs": [],
   "source": [
    "kcore=[]\n",
    "for i in range(0,192):\n",
    "    a=networklist[i]\n",
    "    kcore.append(KCore (a))"
   ]
  },
  {
   "cell_type": "code",
   "execution_count": 221,
   "metadata": {
    "collapsed": false
   },
   "outputs": [],
   "source": [
    "FKCore=[]\n",
    "VFKCore=[]\n",
    "for i in range(0,192):\n",
    "    FKCore.append(kcore [i][0])\n",
    "    VFKCore.append(kcore [i][2])"
   ]
  },
  {
   "cell_type": "code",
   "execution_count": 222,
   "metadata": {
    "collapsed": false
   },
   "outputs": [],
   "source": [
    "MKCore=[]\n",
    "VMKCore=[]\n",
    "for i in range(0,192):\n",
    "    MKCore.append(kcore [i][1])\n",
    "    VMKCore.append(kcore [i][3])"
   ]
  },
  {
   "cell_type": "code",
   "execution_count": 223,
   "metadata": {
    "collapsed": false
   },
   "outputs": [
    {
     "data": {
      "text/html": [
       "<iframe id=\"igraph\" scrolling=\"no\" style=\"border:none;\" seamless=\"seamless\" src=\"https://plot.ly/~susan2933/2.embed\" height=\"525px\" width=\"100%\"></iframe>"
      ],
      "text/plain": [
       "<plotly.tools.PlotlyDisplay object>"
      ]
     },
     "execution_count": 223,
     "metadata": {},
     "output_type": "execute_result"
    }
   ],
   "source": [
    "\n",
    "trace0 = go.Scatter(\n",
    "    x = RevisionDate,\n",
    "    y = FKCore,\n",
    "    mode = 'lines',\n",
    "    name = 'Average K-core of Females'\n",
    ")\n",
    "trace1 = go.Scatter(\n",
    "    x = RevisionDate,\n",
    "    y = MKCore,\n",
    "    mode = 'lines',\n",
    "    name ='Average K-core of Males'\n",
    ")\n",
    "\n",
    "data = [trace0, trace1]\n",
    "\n",
    "layout = dict(title = 'Average K-Core',\n",
    "              xaxis = dict(title = 'Revision'),)\n",
    "\n",
    "fig = dict(data=data, layout=layout)\n",
    "# Plot and embed in ipython notebook!\n",
    "py.iplot(fig, filename='line-mode')"
   ]
  },
  {
   "cell_type": "code",
   "execution_count": 225,
   "metadata": {
    "collapsed": false
   },
   "outputs": [
    {
     "data": {
      "text/html": [
       "<iframe id=\"igraph\" scrolling=\"no\" style=\"border:none;\" seamless=\"seamless\" src=\"https://plot.ly/~susan2933/2.embed\" height=\"525px\" width=\"100%\"></iframe>"
      ],
      "text/plain": [
       "<plotly.tools.PlotlyDisplay object>"
      ]
     },
     "execution_count": 225,
     "metadata": {},
     "output_type": "execute_result"
    }
   ],
   "source": [
    "trace0 = go.Scatter(\n",
    "    x = RevisionDate,\n",
    "    y = FKCore,\n",
    "    mode = 'lines',\n",
    "    name = 'Average K-core of Females'\n",
    ")\n",
    "trace1 = go.Scatter(\n",
    "    x = RevisionDate,\n",
    "    y = MKCore,\n",
    "    mode = 'lines',\n",
    "    name ='Average K-core of Males'\n",
    ")\n",
    "\n",
    "trace01 = go.Scatter(\n",
    "    x = RevisionDate,\n",
    "    y = [x + y for x, y in zip(FKCore, VFKCore)],\n",
    "    mode = 'lines',\n",
    "    marker=dict(color=\"444\"),\n",
    "    line=dict(width=0),\n",
    "    fillcolor='rgba(68, 68, 68, 0.3)',\n",
    "    fill='tonexty'\n",
    ")\n",
    "trace02 = go.Scatter(\n",
    "    x = RevisionDate,\n",
    "    y = [x - y for x, y in zip(FKCore,VFKCore)],\n",
    "    mode = 'lines',\n",
    "    marker=dict(color=\"444\"),\n",
    "    line=dict(width=0),\n",
    "    fillcolor='rgba(68, 68, 68, 0.3)',\n",
    "    fill='tonexty'\n",
    ")\n",
    "\n",
    "trace11 = go.Scatter(\n",
    "    x = RevisionDate,\n",
    "    y = [x + y for x, y in zip(MKCore, VMKCore)],\n",
    "    mode = 'lines',\n",
    "    marker=dict(color=\"444\"),\n",
    "    line=dict(width=0),\n",
    "    fillcolor='rgba(68, 68, 68, 0.3)',\n",
    "    fill='tonexty'\n",
    ")\n",
    "trace12 = go.Scatter(\n",
    "    x = RevisionDate,\n",
    "    y = [x - y for x, y in zip(MKCore, VMKCore)],\n",
    "    mode = 'lines',\n",
    "    marker=dict(color=\"444\"),\n",
    "    line=dict(width=0),\n",
    "    fillcolor='rgba(68, 68, 68, 0.3)',\n",
    "    fill='tonexty'\n",
    ")\n",
    "\n",
    "data = [trace0,trace01,trace02,trace1,trace11,trace12]\n",
    "\n",
    "layout = dict(title = 'Average K-Core',\n",
    "              xaxis = dict(title = 'Revision'),)\n",
    "\n",
    "fig = dict(data=data, layout=layout)\n",
    "# Plot and embed in ipython notebook!\n",
    "py.iplot(fig, filename='line-mode')"
   ]
  },
  {
   "cell_type": "code",
   "execution_count": 229,
   "metadata": {
    "collapsed": true
   },
   "outputs": [],
   "source": [
    "FKCoreY=[]\n",
    "MKCoreY=[]\n",
    "VFKCoreY=[]\n",
    "VMKCoreY=[]\n",
    "for i in range(0,200,12):\n",
    "    if (i-1)>0:\n",
    "        FKCoreY.append(FKCore[i-1])\n",
    "        MKCoreY.append(MKCore[i-1])\n",
    "        VFKCoreY.append(VFKCore[i-1])\n",
    "        VMKCoreY.append(VMKCore[i-1])"
   ]
  },
  {
   "cell_type": "code",
   "execution_count": 231,
   "metadata": {
    "collapsed": false
   },
   "outputs": [
    {
     "data": {
      "text/html": [
       "<iframe id=\"igraph\" scrolling=\"no\" style=\"border:none;\" seamless=\"seamless\" src=\"https://plot.ly/~susan2933/12.embed\" height=\"525px\" width=\"100%\"></iframe>"
      ],
      "text/plain": [
       "<plotly.tools.PlotlyDisplay object>"
      ]
     },
     "execution_count": 231,
     "metadata": {},
     "output_type": "execute_result"
    }
   ],
   "source": [
    "RevisionDateYear=['2001','2002','2003','2004','2005','2006','2007','2008','2009','2010','2011','2012','2013','2014','2015','2016']\n",
    "\n",
    "\n",
    "trace1 = go.Bar(\n",
    "    x=RevisionDateYear,\n",
    "    y=FKCoreY,\n",
    "    error_y=dict(\n",
    "                type='data',\n",
    "                array=VFKCoreY\n",
    "            ),\n",
    "    name='Average K-core of Females'\n",
    ")\n",
    "trace2 = go.Bar(\n",
    "    x=RevisionDateYear,\n",
    "    y=MKCoreY,\n",
    "    error_y=dict(\n",
    "                type='data',\n",
    "                array=VMKCoreY\n",
    "            ),\n",
    "    name='Average K-core of Males'\n",
    ")\n",
    "\n",
    "data = [trace1, trace2]\n",
    "layout = go.Layout(\n",
    "    barmode='group',\n",
    "    title='Average K-Core',\n",
    "    xaxis = dict(title = 'Revision'),\n",
    ")\n",
    "\n",
    "fig = go.Figure(data=data, layout=layout)\n",
    "py.iplot(fig, filename='grouped-bar')\n",
    "\n"
   ]
  },
  {
   "cell_type": "code",
   "execution_count": null,
   "metadata": {
    "collapsed": true
   },
   "outputs": [],
   "source": []
  }
 ],
 "metadata": {
  "anaconda-cloud": {},
  "kernelspec": {
   "display_name": "Python [default]",
   "language": "python",
   "name": "python3"
  },
  "language_info": {
   "codemirror_mode": {
    "name": "ipython",
    "version": 3
   },
   "file_extension": ".py",
   "mimetype": "text/x-python",
   "name": "python",
   "nbconvert_exporter": "python",
   "pygments_lexer": "ipython3",
   "version": "3.5.2"
  }
 },
 "nbformat": 4,
 "nbformat_minor": 1
}

{
 "cells": [
  {
   "cell_type": "code",
   "execution_count": 66,
   "metadata": {
    "collapsed": true
   },
   "outputs": [],
   "source": [
    "import pickle\n",
    "import pandas as pd\n",
    "from mwclient import Site\n",
    "import datetime\n",
    "import time"
   ]
  },
  {
   "cell_type": "code",
   "execution_count": 67,
   "metadata": {
    "collapsed": false
   },
   "outputs": [
    {
     "data": {
      "text/plain": [
       "1483482304.675926"
      ]
     },
     "execution_count": 67,
     "metadata": {},
     "output_type": "execute_result"
    }
   ],
   "source": [
    "start_time = time.time()\n",
    "start_time"
   ]
  },
  {
   "cell_type": "code",
   "execution_count": 68,
   "metadata": {
    "collapsed": false
   },
   "outputs": [
    {
     "data": {
      "text/html": [
       "<div>\n",
       "<table border=\"1\" class=\"dataframe\">\n",
       "  <thead>\n",
       "    <tr style=\"text-align: right;\">\n",
       "      <th></th>\n",
       "      <th>handle</th>\n",
       "      <th>finished_reading</th>\n",
       "    </tr>\n",
       "  </thead>\n",
       "  <tbody>\n",
       "    <tr>\n",
       "      <th>0</th>\n",
       "      <td>Quincy_Timberlake</td>\n",
       "      <td>False</td>\n",
       "    </tr>\n",
       "    <tr>\n",
       "      <th>1</th>\n",
       "      <td>Fanny_Edelman</td>\n",
       "      <td>False</td>\n",
       "    </tr>\n",
       "    <tr>\n",
       "      <th>2</th>\n",
       "      <td>Stojan_Novaković</td>\n",
       "      <td>False</td>\n",
       "    </tr>\n",
       "    <tr>\n",
       "      <th>3</th>\n",
       "      <td>Paul_Scheffer</td>\n",
       "      <td>False</td>\n",
       "    </tr>\n",
       "    <tr>\n",
       "      <th>4</th>\n",
       "      <td>Ed_Robb</td>\n",
       "      <td>False</td>\n",
       "    </tr>\n",
       "  </tbody>\n",
       "</table>\n",
       "</div>"
      ],
      "text/plain": [
       "              handle finished_reading\n",
       "0  Quincy_Timberlake            False\n",
       "1      Fanny_Edelman            False\n",
       "2   Stojan_Novaković            False\n",
       "3      Paul_Scheffer            False\n",
       "4            Ed_Robb            False"
      ]
     },
     "execution_count": 68,
     "metadata": {},
     "output_type": "execute_result"
    }
   ],
   "source": [
    "pol_tracker = None\n",
    "def read_politician_tracker() : \n",
    "    global pol_tracker\n",
    "    pol_tracker = pd.read_csv('profile-reading-tracker')\n",
    "    pol_tracker = pol_tracker[['handle','finished_reading']]\n",
    "read_politician_tracker()\n",
    "pol_tracker.head()"
   ]
  },
  {
   "cell_type": "code",
   "execution_count": 69,
   "metadata": {
    "collapsed": false
   },
   "outputs": [
    {
     "data": {
      "text/plain": [
       "'Quincy_Timberlake'"
      ]
     },
     "execution_count": 69,
     "metadata": {},
     "output_type": "execute_result"
    }
   ],
   "source": [
    "def get_unread_politician(pol_tracker):\n",
    "    data_to_be_read = pol_tracker[pol_tracker['finished_reading'] == False]\n",
    "    if(data_to_be_read.shape[0] > 0) :\n",
    "        return data_to_be_read.iloc[0]['handle']\n",
    "    else:\n",
    "        return None\n",
    "    \n",
    "def write_read_politician(pol_tracker, politician):\n",
    "    pol_tracker.loc[pol_tracker['handle'] == politician, 'finished_reading'] = True\n",
    "    pol_tracker.to_csv('profile-reading-tracker')\n",
    "    \n",
    "get_unread_politician(pol_tracker)"
   ]
  },
  {
   "cell_type": "code",
   "execution_count": 70,
   "metadata": {
    "collapsed": true
   },
   "outputs": [],
   "source": [
    "user_agent = 'Uni Koblenz-Landau student, kandhasamy@uni-koblenz.de'\n",
    "wiki = Site(host='en.wikipedia.org', clients_useragent=user_agent)"
   ]
  },
  {
   "cell_type": "code",
   "execution_count": 56,
   "metadata": {
    "collapsed": false
   },
   "outputs": [
    {
     "name": "stdout",
     "output_type": "stream",
     "text": [
      "Yang_Ti-liang\n",
      "Georges_Colombier\n",
      "Gottlieb_Duttweiler\n",
      "Mohammad_Natsir\n",
      "Ján_Ševčík\n",
      "Georges_Othily\n",
      "Athanasios_N._Miaoulis\n",
      "Kristalina_Georgieva\n",
      "Otto_Hoetzsch\n"
     ]
    }
   ],
   "source": [
    "#this is just for testing whether writing the tracker file and reading back works or not\n",
    "for i in range(1, 10):\n",
    "    handle = get_unread_politician(pol_tracker)\n",
    "    print(handle)\n",
    "    write_read_politician(pol_tracker, handle)\n",
    "    pol_tracker.head()\n"
   ]
  },
  {
   "cell_type": "code",
   "execution_count": 53,
   "metadata": {
    "collapsed": false
   },
   "outputs": [
    {
     "data": {
      "text/html": [
       "<div>\n",
       "<table border=\"1\" class=\"dataframe\">\n",
       "  <thead>\n",
       "    <tr style=\"text-align: right;\">\n",
       "      <th></th>\n",
       "      <th>handle</th>\n",
       "      <th>finished_reading</th>\n",
       "    </tr>\n",
       "  </thead>\n",
       "  <tbody>\n",
       "    <tr>\n",
       "      <th>0</th>\n",
       "      <td>Quincy_Timberlake</td>\n",
       "      <td>True</td>\n",
       "    </tr>\n",
       "    <tr>\n",
       "      <th>1</th>\n",
       "      <td>Fanny_Edelman</td>\n",
       "      <td>True</td>\n",
       "    </tr>\n",
       "    <tr>\n",
       "      <th>2</th>\n",
       "      <td>Stojan_Novaković</td>\n",
       "      <td>True</td>\n",
       "    </tr>\n",
       "    <tr>\n",
       "      <th>3</th>\n",
       "      <td>Paul_Scheffer</td>\n",
       "      <td>True</td>\n",
       "    </tr>\n",
       "    <tr>\n",
       "      <th>4</th>\n",
       "      <td>Ed_Robb</td>\n",
       "      <td>True</td>\n",
       "    </tr>\n",
       "  </tbody>\n",
       "</table>\n",
       "</div>"
      ],
      "text/plain": [
       "              handle finished_reading\n",
       "0  Quincy_Timberlake             True\n",
       "1      Fanny_Edelman             True\n",
       "2   Stojan_Novaković             True\n",
       "3      Paul_Scheffer             True\n",
       "4            Ed_Robb             True"
      ]
     },
     "execution_count": 53,
     "metadata": {},
     "output_type": "execute_result"
    }
   ],
   "source": [
    "#read_politician_tracker()\n",
    "pol_tracker.head()"
   ]
  }
 ],
 "metadata": {
  "anaconda-cloud": {},
  "kernelspec": {
   "display_name": "Python [default]",
   "language": "python",
   "name": "python3"
  },
  "language_info": {
   "codemirror_mode": {
    "name": "ipython",
    "version": 3
   },
   "file_extension": ".py",
   "mimetype": "text/x-python",
   "name": "python",
   "nbconvert_exporter": "python",
   "pygments_lexer": "ipython3",
   "version": "3.5.2"
  }
 },
 "nbformat": 4,
 "nbformat_minor": 1
}

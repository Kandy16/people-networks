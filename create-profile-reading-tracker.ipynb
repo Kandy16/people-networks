{
 "cells": [
  {
   "cell_type": "code",
   "execution_count": 42,
   "metadata": {
    "collapsed": true
   },
   "outputs": [],
   "source": [
    "import pandas as pd"
   ]
  },
  {
   "cell_type": "code",
   "execution_count": 43,
   "metadata": {
    "collapsed": true
   },
   "outputs": [],
   "source": [
    "#configurations that need to be done\n",
    "file_name = 'politician-data-0-100' #make sure that the file is parallel to this program"
   ]
  },
  {
   "cell_type": "code",
   "execution_count": 44,
   "metadata": {
    "collapsed": false
   },
   "outputs": [
    {
     "data": {
      "text/html": [
       "<div>\n",
       "<table border=\"1\" class=\"dataframe\">\n",
       "  <thead>\n",
       "    <tr style=\"text-align: right;\">\n",
       "      <th></th>\n",
       "      <th>Unnamed: 0</th>\n",
       "      <th>#DBpURL</th>\n",
       "      <th>ID</th>\n",
       "      <th>WikiURL</th>\n",
       "      <th>gender</th>\n",
       "      <th>name</th>\n",
       "      <th>birthDate</th>\n",
       "      <th>deathDate</th>\n",
       "      <th>occupation</th>\n",
       "      <th>nationality</th>\n",
       "      <th>party</th>\n",
       "    </tr>\n",
       "  </thead>\n",
       "  <tbody>\n",
       "    <tr>\n",
       "      <th>0</th>\n",
       "      <td>0</td>\n",
       "      <td>http://dbpedia.org/resource/Quincy_Timberlake</td>\n",
       "      <td>11</td>\n",
       "      <td>http://en.wikipedia.org/wiki/Quincy_Timberlake</td>\n",
       "      <td>male</td>\n",
       "      <td>[' quincy timberlake ', ' timberlake quincy ']</td>\n",
       "      <td>[' 1980-04-22 ']</td>\n",
       "      <td>NaN</td>\n",
       "      <td>['politician']</td>\n",
       "      <td>['kenyan']</td>\n",
       "      <td>NaN</td>\n",
       "    </tr>\n",
       "    <tr>\n",
       "      <th>1</th>\n",
       "      <td>1</td>\n",
       "      <td>http://dbpedia.org/resource/Fanny_Edelman</td>\n",
       "      <td>29</td>\n",
       "      <td>http://en.wikipedia.org/wiki/Fanny_Edelman</td>\n",
       "      <td>female</td>\n",
       "      <td>[' fanny edelman ', ' edelman fanny ']</td>\n",
       "      <td>[' 1911-02-27 ']</td>\n",
       "      <td>[' 2011-11-01 ']</td>\n",
       "      <td>['politician']</td>\n",
       "      <td>['argentine']</td>\n",
       "      <td>NaN</td>\n",
       "    </tr>\n",
       "    <tr>\n",
       "      <th>2</th>\n",
       "      <td>2</td>\n",
       "      <td>http://dbpedia.org/resource/Stojan_Novaković</td>\n",
       "      <td>65</td>\n",
       "      <td>http://en.wikipedia.org/wiki/Stojan_Novaković</td>\n",
       "      <td>NaN</td>\n",
       "      <td>[' stojan novaković ', ' (стојан новаковић) ',...</td>\n",
       "      <td>[' 1842-11-01 ']</td>\n",
       "      <td>[' 1915-02-18 ']</td>\n",
       "      <td>['historian', 'philology', 'politician', 'dipl...</td>\n",
       "      <td>['serbian']</td>\n",
       "      <td>[' serbian progressive party (historical) ']</td>\n",
       "    </tr>\n",
       "    <tr>\n",
       "      <th>3</th>\n",
       "      <td>3</td>\n",
       "      <td>http://dbpedia.org/resource/Paul_Scheffer</td>\n",
       "      <td>102</td>\n",
       "      <td>http://en.wikipedia.org/wiki/Paul_Scheffer</td>\n",
       "      <td>male</td>\n",
       "      <td>[' scheffer paul ']</td>\n",
       "      <td>[' 1954-09-03 ']</td>\n",
       "      <td>NaN</td>\n",
       "      <td>['politician']</td>\n",
       "      <td>NaN</td>\n",
       "      <td>NaN</td>\n",
       "    </tr>\n",
       "    <tr>\n",
       "      <th>4</th>\n",
       "      <td>4</td>\n",
       "      <td>http://dbpedia.org/resource/Ed_Robb</td>\n",
       "      <td>127</td>\n",
       "      <td>http://en.wikipedia.org/wiki/Ed_Robb</td>\n",
       "      <td>male</td>\n",
       "      <td>NaN</td>\n",
       "      <td>NaN</td>\n",
       "      <td>NaN</td>\n",
       "      <td>['politician']</td>\n",
       "      <td>['american']</td>\n",
       "      <td>NaN</td>\n",
       "    </tr>\n",
       "  </tbody>\n",
       "</table>\n",
       "</div>"
      ],
      "text/plain": [
       "   Unnamed: 0                                        #DBpURL   ID  \\\n",
       "0           0  http://dbpedia.org/resource/Quincy_Timberlake   11   \n",
       "1           1      http://dbpedia.org/resource/Fanny_Edelman   29   \n",
       "2           2   http://dbpedia.org/resource/Stojan_Novaković   65   \n",
       "3           3      http://dbpedia.org/resource/Paul_Scheffer  102   \n",
       "4           4            http://dbpedia.org/resource/Ed_Robb  127   \n",
       "\n",
       "                                          WikiURL  gender  \\\n",
       "0  http://en.wikipedia.org/wiki/Quincy_Timberlake    male   \n",
       "1      http://en.wikipedia.org/wiki/Fanny_Edelman  female   \n",
       "2   http://en.wikipedia.org/wiki/Stojan_Novaković     NaN   \n",
       "3      http://en.wikipedia.org/wiki/Paul_Scheffer    male   \n",
       "4            http://en.wikipedia.org/wiki/Ed_Robb    male   \n",
       "\n",
       "                                                name         birthDate  \\\n",
       "0     [' quincy timberlake ', ' timberlake quincy ']  [' 1980-04-22 ']   \n",
       "1             [' fanny edelman ', ' edelman fanny ']  [' 1911-02-27 ']   \n",
       "2  [' stojan novaković ', ' (стојан новаковић) ',...  [' 1842-11-01 ']   \n",
       "3                                [' scheffer paul ']  [' 1954-09-03 ']   \n",
       "4                                                NaN               NaN   \n",
       "\n",
       "          deathDate                                         occupation  \\\n",
       "0               NaN                                     ['politician']   \n",
       "1  [' 2011-11-01 ']                                     ['politician']   \n",
       "2  [' 1915-02-18 ']  ['historian', 'philology', 'politician', 'dipl...   \n",
       "3               NaN                                     ['politician']   \n",
       "4               NaN                                     ['politician']   \n",
       "\n",
       "     nationality                                         party  \n",
       "0     ['kenyan']                                           NaN  \n",
       "1  ['argentine']                                           NaN  \n",
       "2    ['serbian']  [' serbian progressive party (historical) ']  \n",
       "3            NaN                                           NaN  \n",
       "4   ['american']                                           NaN  "
      ]
     },
     "execution_count": 44,
     "metadata": {},
     "output_type": "execute_result"
    }
   ],
   "source": [
    "pol = pd.read_csv(file_name,sep='\\t')\n",
    "pol.head()"
   ]
  },
  {
   "cell_type": "code",
   "execution_count": 45,
   "metadata": {
    "collapsed": false
   },
   "outputs": [
    {
     "data": {
      "text/plain": [
       "['Quincy_Timberlake',\n",
       " 'Fanny_Edelman',\n",
       " 'Stojan_Novaković',\n",
       " 'Paul_Scheffer',\n",
       " 'Ed_Robb',\n",
       " 'Nizamettin_Erkmen',\n",
       " 'Claudio_Scajola',\n",
       " 'Lawrence_Lual_Lual',\n",
       " 'Thomas_Clausen_(Louisiana)',\n",
       " 'Yang_Ti-liang',\n",
       " 'Georges_Colombier',\n",
       " 'Gottlieb_Duttweiler',\n",
       " 'Mohammad_Natsir',\n",
       " 'Ján_Ševčík',\n",
       " 'Georges_Othily',\n",
       " 'Athanasios_N._Miaoulis',\n",
       " 'Kristalina_Georgieva',\n",
       " 'Otto_Hoetzsch',\n",
       " 'Rafiq_Ahmed_Jamali',\n",
       " 'Carolyn_Maloney',\n",
       " 'Sir_Gilbert_Pickering,_1st_Baronet',\n",
       " 'Karel_Rüütli',\n",
       " 'Todd_Rokita',\n",
       " 'Salmir_Kaplan',\n",
       " 'Ramón_Jiménez_Fuentes',\n",
       " 'Krasen_Kralev',\n",
       " 'Denver_Butler',\n",
       " 'Massimo_Giorgetti',\n",
       " 'Nancy_Shukri',\n",
       " 'Julie_Green',\n",
       " 'Elżbieta_Pierzchała',\n",
       " 'Brice_Lalonde',\n",
       " 'Chandrasiri_Gajadeera',\n",
       " 'Slavica_Đukić_Dejanović',\n",
       " 'Ho_Dam',\n",
       " 'José_Piñera_Carvallo',\n",
       " 'Bruce_Jesson',\n",
       " 'Thomas_Ravenel',\n",
       " 'Akhilesh_Yadav',\n",
       " 'Luc_Recordon',\n",
       " 'Benjamin_D._Dwinnell',\n",
       " 'José_Francisco_Rábago',\n",
       " 'Gustaw_Przeczek',\n",
       " 'Jacques_Lavoie',\n",
       " 'Nessa_Childers',\n",
       " 'S._Nijamudeen',\n",
       " 'María_García_Quiroz',\n",
       " 'Tunji_Olurin',\n",
       " 'Jalagam_Vengala_Rao',\n",
       " 'Jim_McGovern_(British_politician)',\n",
       " 'Mohammad_Reza_Aref',\n",
       " 'Alexander_Hermann,_Count_of_Wartensleben',\n",
       " 'Ali_Ahsan_Mohammad_Mojaheed',\n",
       " 'Faustino_Félix_Chávez',\n",
       " 'Saadaldeen_Talib',\n",
       " 'Laxmikant_Parsekar',\n",
       " 'Tulsidas_Jadhav',\n",
       " 'Rigoberta_Menchú',\n",
       " 'Lucie_Leblanc',\n",
       " 'David_Milwyn_Duggan',\n",
       " 'John_Wilson_(Mid_Durham_MP)',\n",
       " 'Yōsuke_Tsuruho',\n",
       " 'Mark_Souder',\n",
       " 'Benjamin_Boyd_(South_Carolina)',\n",
       " 'Joaquín_Abril_Martorell',\n",
       " 'Martin_Lidegaard',\n",
       " 'Paul_Janson',\n",
       " 'Iain_Smith_(Scottish_politician)',\n",
       " 'Jacques_Germeaux',\n",
       " 'R._Avudaiyappan',\n",
       " 'Al_Smith',\n",
       " 'William_Gupton',\n",
       " 'Bill_Malarky',\n",
       " 'Jeanette_Dousdebes_Rubio',\n",
       " 'Buzz_Thomas',\n",
       " 'Sachin_Ahir',\n",
       " 'Maria_Lohela',\n",
       " 'Carlos_Morales_Vázquez',\n",
       " 'Daniel_Spagnou',\n",
       " 'Antoine_Wright_(politician)',\n",
       " 'Pawan_Kumar_Tinu',\n",
       " 'Sardar_Tufail_Ahmad_Khan_Mayo',\n",
       " 'Mohammad_Khan_Qajar',\n",
       " 'Tom_Tauke',\n",
       " 'Wojciech_Olejniczak',\n",
       " 'Ayisha_Osori',\n",
       " 'Samuel_Miller_Quincy',\n",
       " 'Arsalan_Fathipour',\n",
       " 'Claus_Nissen_Riiber_Berg',\n",
       " 'Alun_Davies_(politician)',\n",
       " 'Muhammad_Khan_Achakzai',\n",
       " 'Dragan_Đilas',\n",
       " 'Elżbieta_Bieńkowska',\n",
       " 'Sándor_Rónai',\n",
       " 'V._J._Sukselainen',\n",
       " 'Peter_Bossman',\n",
       " 'Muhammad_Fazal_Karim',\n",
       " 'Hortensia_Aragón_Castillo',\n",
       " 'Walter_E._Fauntroy',\n",
       " 'Leopold_De_Wael']"
      ]
     },
     "execution_count": 45,
     "metadata": {},
     "output_type": "execute_result"
    }
   ],
   "source": [
    "handle_list = [x.split('/')[-1] for x in pol['WikiURL']]\n",
    "handle_list"
   ]
  },
  {
   "cell_type": "code",
   "execution_count": 46,
   "metadata": {
    "collapsed": false
   },
   "outputs": [
    {
     "data": {
      "text/html": [
       "<div>\n",
       "<table border=\"1\" class=\"dataframe\">\n",
       "  <thead>\n",
       "    <tr style=\"text-align: right;\">\n",
       "      <th></th>\n",
       "      <th>handle</th>\n",
       "    </tr>\n",
       "  </thead>\n",
       "  <tbody>\n",
       "    <tr>\n",
       "      <th>0</th>\n",
       "      <td>Quincy_Timberlake</td>\n",
       "    </tr>\n",
       "    <tr>\n",
       "      <th>1</th>\n",
       "      <td>Fanny_Edelman</td>\n",
       "    </tr>\n",
       "    <tr>\n",
       "      <th>2</th>\n",
       "      <td>Stojan_Novaković</td>\n",
       "    </tr>\n",
       "    <tr>\n",
       "      <th>3</th>\n",
       "      <td>Paul_Scheffer</td>\n",
       "    </tr>\n",
       "    <tr>\n",
       "      <th>4</th>\n",
       "      <td>Ed_Robb</td>\n",
       "    </tr>\n",
       "  </tbody>\n",
       "</table>\n",
       "</div>"
      ],
      "text/plain": [
       "              handle\n",
       "0  Quincy_Timberlake\n",
       "1      Fanny_Edelman\n",
       "2   Stojan_Novaković\n",
       "3      Paul_Scheffer\n",
       "4            Ed_Robb"
      ]
     },
     "execution_count": 46,
     "metadata": {},
     "output_type": "execute_result"
    }
   ],
   "source": [
    "handle_frame = pd.DataFrame(data=handle_list, columns=['handle'])\n",
    "handle_frame.head()"
   ]
  },
  {
   "cell_type": "code",
   "execution_count": 47,
   "metadata": {
    "collapsed": false
   },
   "outputs": [
    {
     "data": {
      "text/html": [
       "<div>\n",
       "<table border=\"1\" class=\"dataframe\">\n",
       "  <thead>\n",
       "    <tr style=\"text-align: right;\">\n",
       "      <th></th>\n",
       "      <th>handle</th>\n",
       "      <th>finished_reading</th>\n",
       "      <th>time_taken_in_mins</th>\n",
       "    </tr>\n",
       "  </thead>\n",
       "  <tbody>\n",
       "    <tr>\n",
       "      <th>0</th>\n",
       "      <td>Quincy_Timberlake</td>\n",
       "      <td>False</td>\n",
       "      <td>0.0</td>\n",
       "    </tr>\n",
       "    <tr>\n",
       "      <th>1</th>\n",
       "      <td>Fanny_Edelman</td>\n",
       "      <td>False</td>\n",
       "      <td>0.0</td>\n",
       "    </tr>\n",
       "    <tr>\n",
       "      <th>2</th>\n",
       "      <td>Stojan_Novaković</td>\n",
       "      <td>False</td>\n",
       "      <td>0.0</td>\n",
       "    </tr>\n",
       "    <tr>\n",
       "      <th>3</th>\n",
       "      <td>Paul_Scheffer</td>\n",
       "      <td>False</td>\n",
       "      <td>0.0</td>\n",
       "    </tr>\n",
       "    <tr>\n",
       "      <th>4</th>\n",
       "      <td>Ed_Robb</td>\n",
       "      <td>False</td>\n",
       "      <td>0.0</td>\n",
       "    </tr>\n",
       "  </tbody>\n",
       "</table>\n",
       "</div>"
      ],
      "text/plain": [
       "              handle finished_reading  time_taken_in_mins\n",
       "0  Quincy_Timberlake            False                 0.0\n",
       "1      Fanny_Edelman            False                 0.0\n",
       "2   Stojan_Novaković            False                 0.0\n",
       "3      Paul_Scheffer            False                 0.0\n",
       "4            Ed_Robb            False                 0.0"
      ]
     },
     "execution_count": 47,
     "metadata": {},
     "output_type": "execute_result"
    }
   ],
   "source": [
    "handle_frame['finished_reading'] = False\n",
    "handle_frame['time_taken_in_mins'] = 0.0\n",
    "handle_frame.head()"
   ]
  },
  {
   "cell_type": "code",
   "execution_count": 48,
   "metadata": {
    "collapsed": true
   },
   "outputs": [],
   "source": [
    "handle_frame.to_csv(file_name+'-tracker.csv')"
   ]
  },
  {
   "cell_type": "code",
   "execution_count": null,
   "metadata": {
    "collapsed": true
   },
   "outputs": [],
   "source": []
  }
 ],
 "metadata": {
  "anaconda-cloud": {},
  "kernelspec": {
   "display_name": "Python [default]",
   "language": "python",
   "name": "python3"
  },
  "language_info": {
   "codemirror_mode": {
    "name": "ipython",
    "version": 3
   },
   "file_extension": ".py",
   "mimetype": "text/x-python",
   "name": "python",
   "nbconvert_exporter": "python",
   "pygments_lexer": "ipython3",
   "version": "3.5.2"
  }
 },
 "nbformat": 4,
 "nbformat_minor": 1
}

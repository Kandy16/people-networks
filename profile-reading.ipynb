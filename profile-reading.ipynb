{
 "cells": [
  {
   "cell_type": "code",
   "execution_count": 70,
   "metadata": {
    "collapsed": true
   },
   "outputs": [],
   "source": [
    "import pickle\n",
    "import pandas as pd\n",
    "from mwclient import Site\n",
    "import datetime\n",
    "import time\n",
    "import os"
   ]
  },
  {
   "cell_type": "code",
   "execution_count": 71,
   "metadata": {
    "collapsed": false
   },
   "outputs": [],
   "source": [
    "file_name = 'politician-data-0-100'\n",
    "tracker_file = file_name+'-tracker.csv' # make sure the file is in parallel to this program\n",
    "\n",
    "base_path = 'profile-data' # to store the profile data. if the folder not present then it will create it\n",
    "# no path delimiters please. don't use //\n",
    "if(not os.path.isdir(base_path)):\n",
    "    os.makedirs(base_path)\n"
   ]
  },
  {
   "cell_type": "code",
   "execution_count": 72,
   "metadata": {
    "collapsed": true
   },
   "outputs": [],
   "source": [
    "user_agent = 'Uni Koblenz-Landau student, kandhasamy@uni-koblenz.de'\n",
    "wiki = Site(host='en.wikipedia.org', clients_useragent=user_agent)"
   ]
  },
  {
   "cell_type": "code",
   "execution_count": 73,
   "metadata": {
    "collapsed": false
   },
   "outputs": [
    {
     "data": {
      "text/plain": [
       "1483621788.168219"
      ]
     },
     "execution_count": 73,
     "metadata": {},
     "output_type": "execute_result"
    }
   ],
   "source": [
    "start_time = time.time()\n",
    "start_time"
   ]
  },
  {
   "cell_type": "code",
   "execution_count": 74,
   "metadata": {
    "collapsed": false
   },
   "outputs": [
    {
     "data": {
      "text/html": [
       "<div>\n",
       "<table border=\"1\" class=\"dataframe\">\n",
       "  <thead>\n",
       "    <tr style=\"text-align: right;\">\n",
       "      <th></th>\n",
       "      <th>handle</th>\n",
       "      <th>finished_reading</th>\n",
       "      <th>time_taken_in_mins</th>\n",
       "    </tr>\n",
       "  </thead>\n",
       "  <tbody>\n",
       "    <tr>\n",
       "      <th>0</th>\n",
       "      <td>Quincy_Timberlake</td>\n",
       "      <td>False</td>\n",
       "      <td>0.0</td>\n",
       "    </tr>\n",
       "    <tr>\n",
       "      <th>1</th>\n",
       "      <td>Fanny_Edelman</td>\n",
       "      <td>False</td>\n",
       "      <td>0.0</td>\n",
       "    </tr>\n",
       "    <tr>\n",
       "      <th>2</th>\n",
       "      <td>Stojan_Novaković</td>\n",
       "      <td>False</td>\n",
       "      <td>0.0</td>\n",
       "    </tr>\n",
       "    <tr>\n",
       "      <th>3</th>\n",
       "      <td>Paul_Scheffer</td>\n",
       "      <td>False</td>\n",
       "      <td>0.0</td>\n",
       "    </tr>\n",
       "    <tr>\n",
       "      <th>4</th>\n",
       "      <td>Ed_Robb</td>\n",
       "      <td>False</td>\n",
       "      <td>0.0</td>\n",
       "    </tr>\n",
       "  </tbody>\n",
       "</table>\n",
       "</div>"
      ],
      "text/plain": [
       "              handle finished_reading  time_taken_in_mins\n",
       "0  Quincy_Timberlake            False                 0.0\n",
       "1      Fanny_Edelman            False                 0.0\n",
       "2   Stojan_Novaković            False                 0.0\n",
       "3      Paul_Scheffer            False                 0.0\n",
       "4            Ed_Robb            False                 0.0"
      ]
     },
     "execution_count": 74,
     "metadata": {},
     "output_type": "execute_result"
    }
   ],
   "source": [
    "pol_tracker = None\n",
    "def read_politician_tracker() : \n",
    "    global pol_tracker\n",
    "    pol_tracker = pd.read_csv(tracker_file)\n",
    "    pol_tracker = pol_tracker[['handle','finished_reading','time_taken_in_mins']]\n",
    "read_politician_tracker()\n",
    "pol_tracker.head()"
   ]
  },
  {
   "cell_type": "code",
   "execution_count": 75,
   "metadata": {
    "collapsed": false
   },
   "outputs": [
    {
     "data": {
      "text/plain": [
       "'Quincy_Timberlake'"
      ]
     },
     "execution_count": 75,
     "metadata": {},
     "output_type": "execute_result"
    }
   ],
   "source": [
    "def get_unread_politician(pol_tracker):\n",
    "    data_to_be_read = pol_tracker[pol_tracker['finished_reading'] == False]\n",
    "    if(data_to_be_read.shape[0] > 0) :\n",
    "        return data_to_be_read.iloc[0]['handle']\n",
    "    else:\n",
    "        return None\n",
    "    \n",
    "def write_read_politician(pol_tracker, politician,time_taken):\n",
    "    # this could be improved - rather than filtering two times - get the row handle and update it\n",
    "    pol_tracker.loc[pol_tracker['handle'] == politician, 'finished_reading'] = True\n",
    "    pol_tracker.loc[pol_tracker['handle'] == politician, 'time_taken_in_mins'] = time_taken \n",
    "\n",
    "    pol_tracker.to_csv(tracker_file)\n",
    "    \n",
    "get_unread_politician(pol_tracker)"
   ]
  },
  {
   "cell_type": "code",
   "execution_count": 76,
   "metadata": {
    "collapsed": false
   },
   "outputs": [
    {
     "name": "stdout",
     "output_type": "stream",
     "text": [
      "1 ) Quincy_Timberlake is read. time taken(mins) -  0.8100204745928447\n",
      "2 ) Fanny_Edelman is read. time taken(mins) -  0.7990706483523051\n",
      "3 ) Stojan_Novaković is read. time taken(mins) -  0.8789964079856872\n",
      "4 ) Paul_Scheffer is read. time taken(mins) -  0.7661576906840006\n",
      "5 ) Ed_Robb is read. time taken(mins) -  0.7450967232386271\n",
      "6 ) Nizamettin_Erkmen is read. time taken(mins) -  0.6623029510180155\n",
      "7 ) Claudio_Scajola is read. time taken(mins) -  0.7038844704627991\n",
      "8 ) Lawrence_Lual_Lual is read. time taken(mins) -  0.7397859930992127\n",
      "9 ) Thomas_Clausen_(Louisiana) is read. time taken(mins) -  0.6808087031046549\n",
      "10 ) Yang_Ti-liang is read. time taken(mins) -  0.70073535044988\n",
      "11 ) Georges_Colombier is read. time taken(mins) -  0.6332885384559631\n",
      "12 ) Gottlieb_Duttweiler is read. time taken(mins) -  0.6467467784881592\n",
      "13 ) Mohammad_Natsir is read. time taken(mins) -  0.7488250454266866\n",
      "14 ) Ján_Ševčík is read. time taken(mins) -  0.7234708944956462\n",
      "15 ) Georges_Othily is read. time taken(mins) -  0.6745899319648743\n",
      "16 ) Athanasios_N._Miaoulis is read. time taken(mins) -  0.7897930343945821\n",
      "17 ) Kristalina_Georgieva is read. time taken(mins) -  0.8221425374348958\n",
      "18 ) Otto_Hoetzsch is read. time taken(mins) -  0.8370245893796285\n",
      "19 ) Rafiq_Ahmed_Jamali is read. time taken(mins) -  0.8406186938285828\n",
      "20 ) Carolyn_Maloney is read. time taken(mins) -  0.9626320600509644\n",
      "21 ) Sir_Gilbert_Pickering,_1st_Baronet is read. time taken(mins) -  0.8398561318715413\n",
      "22 ) Karel_Rüütli is read. time taken(mins) -  0.7955053726832072\n",
      "23 ) Todd_Rokita is read. time taken(mins) -  0.9043528079986572\n",
      "24 ) Salmir_Kaplan is read. time taken(mins) -  0.8247261802355449\n",
      "25 ) Ramón_Jiménez_Fuentes is read. time taken(mins) -  0.8128219604492187\n",
      "26 ) Krasen_Kralev is read. time taken(mins) -  0.8261215647061666\n",
      "27 ) Denver_Butler is read. time taken(mins) -  0.8121077140172323\n",
      "28 ) Massimo_Giorgetti is read. time taken(mins) -  0.828660790125529\n",
      "29 ) Nancy_Shukri is read. time taken(mins) -  0.8401762962341308\n",
      "30 ) Julie_Green is read. time taken(mins) -  0.8394718249638875\n",
      "31 ) Elżbieta_Pierzchała is read. time taken(mins) -  0.8190289855003356\n",
      "32 ) Brice_Lalonde is read. time taken(mins) -  0.8357439557711284\n",
      "33 ) Chandrasiri_Gajadeera is read. time taken(mins) -  0.7447451790173848\n",
      "34 ) Slavica_Đukić_Dejanović is read. time taken(mins) -  0.6876219590504964\n",
      "35 ) Ho_Dam is read. time taken(mins) -  0.6564692934354146\n",
      "36 ) José_Piñera_Carvallo is read. time taken(mins) -  0.6961373686790466\n",
      "37 ) Bruce_Jesson is read. time taken(mins) -  0.7883004824320475\n",
      "38 ) Thomas_Ravenel is read. time taken(mins) -  0.7290303786595662\n",
      "39 ) Akhilesh_Yadav is read. time taken(mins) -  0.7609363277753194\n",
      "40 ) Luc_Recordon is read. time taken(mins) -  0.7107905586560567\n",
      "41 ) Benjamin_D._Dwinnell is read. time taken(mins) -  0.6928639491399129\n",
      "42 ) José_Francisco_Rábago is read. time taken(mins) -  0.6497402667999268\n",
      "43 ) Gustaw_Przeczek is read. time taken(mins) -  0.7226025621096294\n",
      "44 ) Jacques_Lavoie is read. time taken(mins) -  0.7138471086819966\n",
      "45 ) Nessa_Childers is read. time taken(mins) -  0.8138584733009339\n",
      "46 ) S._Nijamudeen is read. time taken(mins) -  0.6899546225865681\n",
      "47 ) María_García_Quiroz is read. time taken(mins) -  0.6861859560012817\n",
      "48 ) Tunji_Olurin is read. time taken(mins) -  0.6760647535324097\n",
      "49 ) Jalagam_Vengala_Rao is read. time taken(mins) -  0.6863072673479717\n",
      "50 ) Jim_McGovern_(British_politician) is read. time taken(mins) -  0.7042711297671\n",
      "51 ) Mohammad_Reza_Aref is read. time taken(mins) -  0.7001890103022258\n",
      "52 ) Alexander_Hermann,_Count_of_Wartensleben is read. time taken(mins) -  0.6893832206726074\n",
      "53 ) Ali_Ahsan_Mohammad_Mojaheed is read. time taken(mins) -  0.6756738305091858\n",
      "54 ) Faustino_Félix_Chávez is read. time taken(mins) -  0.6640854358673096\n",
      "55 ) Saadaldeen_Talib is read. time taken(mins) -  0.5991753419240315\n",
      "56 ) Laxmikant_Parsekar is read. time taken(mins) -  0.6366589466730753\n",
      "57 ) Tulsidas_Jadhav is read. time taken(mins) -  0.6163785497347514\n",
      "58 ) Rigoberta_Menchú is read. time taken(mins) -  0.744253412882487\n",
      "59 ) Lucie_Leblanc is read. time taken(mins) -  0.6253040949503581\n",
      "60 ) David_Milwyn_Duggan is read. time taken(mins) -  0.641196056207021\n",
      "61 ) John_Wilson_(Mid_Durham_MP) is read. time taken(mins) -  0.6337432702382405\n",
      "62 ) Yōsuke_Tsuruho is read. time taken(mins) -  0.6645492156346638\n",
      "63 ) Mark_Souder is read. time taken(mins) -  0.7490802526473999\n",
      "64 ) Benjamin_Boyd_(South_Carolina) is read. time taken(mins) -  0.7245477954546611\n",
      "65 ) Joaquín_Abril_Martorell is read. time taken(mins) -  0.685699458916982\n",
      "66 ) Martin_Lidegaard is read. time taken(mins) -  0.6672566572825114\n",
      "67 ) Paul_Janson is read. time taken(mins) -  0.6292046626408895\n",
      "68 ) Iain_Smith_(Scottish_politician) is read. time taken(mins) -  0.8398627320925395\n",
      "69 ) Jacques_Germeaux is read. time taken(mins) -  0.7823602437973023\n",
      "70 ) R._Avudaiyappan is read. time taken(mins) -  0.6933762033780416\n",
      "71 ) Al_Smith is read. time taken(mins) -  0.7395054856936137\n",
      "72 ) William_Gupton is read. time taken(mins) -  0.7009296417236328\n",
      "73 ) Bill_Malarky is read. time taken(mins) -  0.7632142821947734\n",
      "74 ) Jeanette_Dousdebes_Rubio is read. time taken(mins) -  0.7854939222335815\n",
      "75 ) Buzz_Thomas is read. time taken(mins) -  0.808622415860494\n",
      "76 ) Sachin_Ahir is read. time taken(mins) -  0.7690012335777283\n",
      "77 ) Maria_Lohela is read. time taken(mins) -  0.7758005619049072\n",
      "78 ) Carlos_Morales_Vázquez is read. time taken(mins) -  0.7055675307909648\n",
      "79 ) Daniel_Spagnou is read. time taken(mins) -  0.6833850701649984\n",
      "80 ) Antoine_Wright_(politician) is read. time taken(mins) -  0.6729867458343506\n",
      "81 ) Pawan_Kumar_Tinu is read. time taken(mins) -  0.6822998245557149\n",
      "82 ) Sardar_Tufail_Ahmad_Khan_Mayo is read. time taken(mins) -  0.5998750686645508\n",
      "83 ) Mohammad_Khan_Qajar is read. time taken(mins) -  0.7575670798619588\n",
      "84 ) Tom_Tauke is read. time taken(mins) -  0.8318018356959025\n",
      "85 ) Wojciech_Olejniczak is read. time taken(mins) -  0.8031588792800903\n",
      "86 ) Ayisha_Osori is read. time taken(mins) -  0.7786232630411783\n",
      "87 ) Samuel_Miller_Quincy is read. time taken(mins) -  0.8178558627764384\n",
      "88 ) Arsalan_Fathipour is read. time taken(mins) -  0.7849269072214763\n",
      "89 ) Claus_Nissen_Riiber_Berg is read. time taken(mins) -  0.7521092732747395\n",
      "90 ) Alun_Davies_(politician) is read. time taken(mins) -  0.7319616556167603\n",
      "91 ) Muhammad_Khan_Achakzai is read. time taken(mins) -  0.6722055474917094\n",
      "92 ) Dragan_Đilas is read. time taken(mins) -  0.719046676158905\n",
      "93 ) Elżbieta_Bieńkowska is read. time taken(mins) -  0.7255872090657552\n",
      "94 ) Sándor_Rónai is read. time taken(mins) -  0.6410789608955383\n",
      "95 ) V._J._Sukselainen is read. time taken(mins) -  0.579851222038269\n",
      "96 ) Peter_Bossman is read. time taken(mins) -  0.5791989843050639\n",
      "97 ) Muhammad_Fazal_Karim is read. time taken(mins) -  0.5731673121452332\n",
      "98 ) Hortensia_Aragón_Castillo is read. time taken(mins) -  0.6526701966921489\n",
      "99 ) Walter_E._Fauntroy is read. time taken(mins) -  0.7210908969243367\n",
      "100 ) Leopold_De_Wael is read. time taken(mins) -  0.6458297451337178\n",
      "Hooray!!!!!!! The job is over.\n",
      "Total Time taken - 73.15664520661036\n"
     ]
    }
   ],
   "source": [
    "start_time = time.time()\n",
    "politician_count = 0\n",
    "while True:\n",
    "    # get the politician to be read\n",
    "    # read them completely\n",
    "    #jump on to the next politician until everything is over\n",
    "    start_politician_time = time.time()\n",
    "    unread_politician = get_unread_politician(pol_tracker)\n",
    "    if (unread_politician):\n",
    "        politician_page = wiki.pages[unread_politician]\n",
    "        pol_list = {}\n",
    "        # go through all the years and all months and read a single article (or the latest previous article)\n",
    "        for year in range(2001,2017):\n",
    "            for mon in range(1,13):\n",
    "                dateObj = datetime.date(year, mon, 1)\n",
    "                #startDate = dateObj.isoformat()+'T00:00:00Z'\n",
    "                endDate = dateObj.isoformat()+'T23:59:59Z'\n",
    "                for article in politician_page.revisions(start=endDate, prop='ids|timestamp|content',dir='older', limit=1):\n",
    "                    pol_list[str(year)+'-'+str(mon)] = article\n",
    "                    break\n",
    "        politician_count += 1\n",
    "        end_politician_time = time.time()\n",
    "        print(politician_count,') '+unread_politician+' is read. '+'time taken(mins) - ',(end_politician_time - start_politician_time)/60)\n",
    "        pickle.dump(pol_list,open(base_path + '/'+unread_politician,'wb'))\n",
    "        write_read_politician(pol_tracker, unread_politician, (end_politician_time - start_politician_time)/60 )\n",
    "    else :\n",
    "        print('Hooray!!!!!!! The job is over.')\n",
    "        break\n",
    "end_time = time.time()\n",
    "print('Total Time taken -',(end_time - start_time) / 60) "
   ]
  },
  {
   "cell_type": "markdown",
   "metadata": {},
   "source": [
    "### Just interrupt the above code, whenever you want to and run the following code just to check how much time it took"
   ]
  },
  {
   "cell_type": "code",
   "execution_count": 52,
   "metadata": {
    "collapsed": false
   },
   "outputs": [
    {
     "data": {
      "text/plain": [
       "1483616594.0808723"
      ]
     },
     "execution_count": 52,
     "metadata": {},
     "output_type": "execute_result"
    }
   ],
   "source": [
    "curr_time = time.time()\n",
    "start_time"
   ]
  },
  {
   "cell_type": "code",
   "execution_count": 53,
   "metadata": {
    "collapsed": false
   },
   "outputs": [
    {
     "data": {
      "text/plain": [
       "10"
      ]
     },
     "execution_count": 53,
     "metadata": {},
     "output_type": "execute_result"
    }
   ],
   "source": [
    "politician_count"
   ]
  },
  {
   "cell_type": "code",
   "execution_count": 54,
   "metadata": {
    "collapsed": false
   },
   "outputs": [
    {
     "data": {
      "text/plain": [
       "0.1152450070116255"
      ]
     },
     "execution_count": 54,
     "metadata": {},
     "output_type": "execute_result"
    }
   ],
   "source": [
    "#Overall time in hrs\n",
    "(curr_time - start_time) / 3600"
   ]
  },
  {
   "cell_type": "code",
   "execution_count": 55,
   "metadata": {
    "collapsed": false
   },
   "outputs": [
    {
     "data": {
      "text/plain": [
       "6.91470042069753"
      ]
     },
     "execution_count": 55,
     "metadata": {},
     "output_type": "execute_result"
    }
   ],
   "source": [
    "#Overall time in mins\n",
    "(curr_time - start_time) / 60"
   ]
  },
  {
   "cell_type": "code",
   "execution_count": 56,
   "metadata": {
    "collapsed": false
   },
   "outputs": [
    {
     "data": {
      "text/plain": [
       "0.691470042069753"
      ]
     },
     "execution_count": 56,
     "metadata": {},
     "output_type": "execute_result"
    }
   ],
   "source": [
    "#Average time for one profile in mins\n",
    "(curr_time - start_time ) / (60 *politician_count)"
   ]
  },
  {
   "cell_type": "code",
   "execution_count": 23,
   "metadata": {
    "collapsed": false
   },
   "outputs": [],
   "source": [
    "#pol_list\n",
    "#unread_politician\n",
    "#pickle.dump(pol_list,open('profile-data//'+unread_politician,'wb'))\n"
   ]
  }
 ],
 "metadata": {
  "anaconda-cloud": {},
  "kernelspec": {
   "display_name": "Python [default]",
   "language": "python",
   "name": "python3"
  },
  "language_info": {
   "codemirror_mode": {
    "name": "ipython",
    "version": 3
   },
   "file_extension": ".py",
   "mimetype": "text/x-python",
   "name": "python",
   "nbconvert_exporter": "python",
   "pygments_lexer": "ipython3",
   "version": "3.5.2"
  }
 },
 "nbformat": 4,
 "nbformat_minor": 1
}

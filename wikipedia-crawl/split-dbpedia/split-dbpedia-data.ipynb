{
 "cells": [
  {
   "cell_type": "code",
   "execution_count": 1,
   "metadata": {
    "collapsed": true
   },
   "outputs": [],
   "source": [
    "import pandas as pd"
   ]
  },
  {
   "cell_type": "code",
   "execution_count": 2,
   "metadata": {
    "collapsed": true
   },
   "outputs": [],
   "source": [
    "dbpedia_file ='politician-data' #make sure the file is parallel to the program\n",
    "SPLIT_SIZE = 10000"
   ]
  },
  {
   "cell_type": "code",
   "execution_count": 3,
   "metadata": {
    "collapsed": false
   },
   "outputs": [
    {
     "data": {
      "text/html": [
       "<div>\n",
       "<table border=\"1\" class=\"dataframe\">\n",
       "  <thead>\n",
       "    <tr style=\"text-align: right;\">\n",
       "      <th></th>\n",
       "      <th>#DBpURL</th>\n",
       "      <th>ID</th>\n",
       "      <th>WikiURL</th>\n",
       "      <th>gender</th>\n",
       "      <th>name</th>\n",
       "      <th>birthDate</th>\n",
       "      <th>deathDate</th>\n",
       "      <th>occupation</th>\n",
       "      <th>nationality</th>\n",
       "      <th>party</th>\n",
       "    </tr>\n",
       "  </thead>\n",
       "  <tbody>\n",
       "    <tr>\n",
       "      <th>0</th>\n",
       "      <td>http://dbpedia.org/resource/Quincy_Timberlake</td>\n",
       "      <td>11</td>\n",
       "      <td>http://en.wikipedia.org/wiki/Quincy_Timberlake</td>\n",
       "      <td>male</td>\n",
       "      <td>[' quincy timberlake ', ' timberlake quincy ']</td>\n",
       "      <td>[' 1980-04-22 ']</td>\n",
       "      <td>NaN</td>\n",
       "      <td>['politician']</td>\n",
       "      <td>['kenyan']</td>\n",
       "      <td>NaN</td>\n",
       "    </tr>\n",
       "    <tr>\n",
       "      <th>1</th>\n",
       "      <td>http://dbpedia.org/resource/Fanny_Edelman</td>\n",
       "      <td>29</td>\n",
       "      <td>http://en.wikipedia.org/wiki/Fanny_Edelman</td>\n",
       "      <td>female</td>\n",
       "      <td>[' fanny edelman ', ' edelman fanny ']</td>\n",
       "      <td>[' 1911-02-27 ']</td>\n",
       "      <td>[' 2011-11-01 ']</td>\n",
       "      <td>['politician']</td>\n",
       "      <td>['argentine']</td>\n",
       "      <td>NaN</td>\n",
       "    </tr>\n",
       "    <tr>\n",
       "      <th>2</th>\n",
       "      <td>http://dbpedia.org/resource/Stojan_Novaković</td>\n",
       "      <td>65</td>\n",
       "      <td>http://en.wikipedia.org/wiki/Stojan_Novaković</td>\n",
       "      <td>NaN</td>\n",
       "      <td>[' stojan novaković ', ' (стојан новаковић) ',...</td>\n",
       "      <td>[' 1842-11-01 ']</td>\n",
       "      <td>[' 1915-02-18 ']</td>\n",
       "      <td>['historian', 'philology', 'politician', 'dipl...</td>\n",
       "      <td>['serbian']</td>\n",
       "      <td>[' serbian progressive party (historical) ']</td>\n",
       "    </tr>\n",
       "    <tr>\n",
       "      <th>3</th>\n",
       "      <td>http://dbpedia.org/resource/Paul_Scheffer</td>\n",
       "      <td>102</td>\n",
       "      <td>http://en.wikipedia.org/wiki/Paul_Scheffer</td>\n",
       "      <td>male</td>\n",
       "      <td>[' scheffer paul ']</td>\n",
       "      <td>[' 1954-09-03 ']</td>\n",
       "      <td>NaN</td>\n",
       "      <td>['politician']</td>\n",
       "      <td>NaN</td>\n",
       "      <td>NaN</td>\n",
       "    </tr>\n",
       "    <tr>\n",
       "      <th>4</th>\n",
       "      <td>http://dbpedia.org/resource/Ed_Robb</td>\n",
       "      <td>127</td>\n",
       "      <td>http://en.wikipedia.org/wiki/Ed_Robb</td>\n",
       "      <td>male</td>\n",
       "      <td>NaN</td>\n",
       "      <td>NaN</td>\n",
       "      <td>NaN</td>\n",
       "      <td>['politician']</td>\n",
       "      <td>['american']</td>\n",
       "      <td>NaN</td>\n",
       "    </tr>\n",
       "  </tbody>\n",
       "</table>\n",
       "</div>"
      ],
      "text/plain": [
       "                                         #DBpURL   ID  \\\n",
       "0  http://dbpedia.org/resource/Quincy_Timberlake   11   \n",
       "1      http://dbpedia.org/resource/Fanny_Edelman   29   \n",
       "2   http://dbpedia.org/resource/Stojan_Novaković   65   \n",
       "3      http://dbpedia.org/resource/Paul_Scheffer  102   \n",
       "4            http://dbpedia.org/resource/Ed_Robb  127   \n",
       "\n",
       "                                          WikiURL  gender  \\\n",
       "0  http://en.wikipedia.org/wiki/Quincy_Timberlake    male   \n",
       "1      http://en.wikipedia.org/wiki/Fanny_Edelman  female   \n",
       "2   http://en.wikipedia.org/wiki/Stojan_Novaković     NaN   \n",
       "3      http://en.wikipedia.org/wiki/Paul_Scheffer    male   \n",
       "4            http://en.wikipedia.org/wiki/Ed_Robb    male   \n",
       "\n",
       "                                                name         birthDate  \\\n",
       "0     [' quincy timberlake ', ' timberlake quincy ']  [' 1980-04-22 ']   \n",
       "1             [' fanny edelman ', ' edelman fanny ']  [' 1911-02-27 ']   \n",
       "2  [' stojan novaković ', ' (стојан новаковић) ',...  [' 1842-11-01 ']   \n",
       "3                                [' scheffer paul ']  [' 1954-09-03 ']   \n",
       "4                                                NaN               NaN   \n",
       "\n",
       "          deathDate                                         occupation  \\\n",
       "0               NaN                                     ['politician']   \n",
       "1  [' 2011-11-01 ']                                     ['politician']   \n",
       "2  [' 1915-02-18 ']  ['historian', 'philology', 'politician', 'dipl...   \n",
       "3               NaN                                     ['politician']   \n",
       "4               NaN                                     ['politician']   \n",
       "\n",
       "     nationality                                         party  \n",
       "0     ['kenyan']                                           NaN  \n",
       "1  ['argentine']                                           NaN  \n",
       "2    ['serbian']  [' serbian progressive party (historical) ']  \n",
       "3            NaN                                           NaN  \n",
       "4   ['american']                                           NaN  "
      ]
     },
     "execution_count": 3,
     "metadata": {},
     "output_type": "execute_result"
    }
   ],
   "source": [
    "dbpedia_data = pd.read_csv(dbpedia_file, sep='\\t')\n",
    "dbpedia_data.head()"
   ]
  },
  {
   "cell_type": "code",
   "execution_count": 4,
   "metadata": {
    "collapsed": false
   },
   "outputs": [],
   "source": [
    "len = dbpedia_data.shape[0] - 1\n",
    "idx = 0\n",
    "limit = SPLIT_SIZE\n",
    "file_name = ''\n",
    "while (idx < len) :\n",
    "    rows = dbpedia_data.iloc[idx:limit,:]\n",
    "    file_name = dbpedia_file+'-'+str(idx)+'-'+str(limit)\n",
    "    rows.to_csv(file_name,sep='\\t')\n",
    "    idx = limit\n",
    "    limit = idx + SPLIT_SIZE\n",
    "    if(limit > len):\n",
    "        limit = len\n"
   ]
  },
  {
   "cell_type": "code",
   "execution_count": null,
   "metadata": {
    "collapsed": true
   },
   "outputs": [],
   "source": []
  }
 ],
 "metadata": {
  "anaconda-cloud": {},
  "kernelspec": {
   "display_name": "Python [default]",
   "language": "python",
   "name": "python3"
  },
  "language_info": {
   "codemirror_mode": {
    "name": "ipython",
    "version": 3
   },
   "file_extension": ".py",
   "mimetype": "text/x-python",
   "name": "python",
   "nbconvert_exporter": "python",
   "pygments_lexer": "ipython3",
   "version": "3.5.2"
  }
 },
 "nbformat": 4,
 "nbformat_minor": 1
}
